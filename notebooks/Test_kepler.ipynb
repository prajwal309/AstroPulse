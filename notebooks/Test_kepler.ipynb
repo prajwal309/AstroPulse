{
 "cells": [
  {
   "cell_type": "code",
   "execution_count": 1,
   "id": "528a7a16-294f-4d53-bf18-27495afadfe9",
   "metadata": {},
   "outputs": [],
   "source": [
    "import sys, os\n",
    "sys.path.append('../')\n",
    "\n",
    "import numpy as np\n",
    "import pandas as pd\n",
    "import matplotlib.pyplot as plt\n",
    "import pyarrow.parquet as pq\n",
    "\n",
    "%load_ext autoreload\n",
    "%autoreload 2"
   ]
  },
  {
   "cell_type": "code",
   "execution_count": 2,
   "id": "f7e98329-aa62-4708-8a38-a077b014c3f9",
   "metadata": {},
   "outputs": [],
   "source": [
    "# data_dir = \"../data/ZTFBTS/\"  # If unzipped locally\n",
    "data_dir = \"/ocean/projects/phy230064p/shared/kepseismic/BG_Data\" # If running on Bridges"
   ]
  },
  {
   "cell_type": "code",
   "execution_count": 14,
   "id": "0b2242fc-9b9d-4865-bb52-8850e3f876a8",
   "metadata": {},
   "outputs": [],
   "source": [
    "from astropy.io import fits\n",
    "import pandas as pd\n",
    "\n",
    "dir_light_curves = f\"{data_dir}/\"\n",
    "\n",
    "def open_light_curve_fits(filename):\n",
    "    \"\"\" Helper function to open a light curve csv file.\n",
    "    \"\"\"\n",
    "    file_path = os.path.join(dir_light_curves, filename)\n",
    "    with fits.open(file_path) as data_psd:\n",
    "        df = pd.DataFrame(data_psd[1].data)\n",
    "    return df\n",
    "\n",
    "n_max_obs = 1000\n",
    "\n",
    "# Open all light curves and save as list. Pad observations with zeros up to n_max_obs.\n",
    "mag = np.zeros((len(os.listdir(dir_light_curves)), n_max_obs))\n",
    "time = np.zeros((len(os.listdir(dir_light_curves)), n_max_obs))\n",
    "mask = np.zeros((len(os.listdir(dir_light_curves)), n_max_obs), dtype=bool)\n",
    "\n",
    "idx = 0\n",
    "for filename in os.listdir(dir_light_curves):\n",
    "    if filename.endswith(\".fits\"):\n",
    "        df = open_light_curve_fits(filename)\n",
    "        # If less than n_max_obs observations, pad with zeros\n",
    "        if len(df.iloc[:,0].values) < n_max_obs:\n",
    "            mag[idx, :len(df.iloc[:,0].values)] = df.iloc[:,1].values\n",
    "            time[idx, :len(df.iloc[:,0].values)] = df.iloc[:,0].values\n",
    "            mask[idx, :len(df.iloc[:,0].values)] = 1\n",
    "        # Otherwise, randomly select n_max_obs observations\n",
    "        else:\n",
    "            rand_idx = np.random.choice(len(df.iloc[:,0].values), n_max_obs, replace=False)\n",
    "            mag[idx, :] = df.iloc[:,1].values[rand_idx]\n",
    "            time[idx, :] = df.iloc[:,0].values[rand_idx]\n",
    "            mask[idx, :] = 1\n",
    "        idx += 1"
   ]
  },
  {
   "cell_type": "code",
   "execution_count": 15,
   "id": "7572007d-2e43-438d-ae57-2e48feb8217e",
   "metadata": {},
   "outputs": [],
   "source": [
    "import math\n",
    "\n",
    "import torch\n",
    "import torch.nn as nn\n",
    "import pytorch_lightning as pl\n",
    "\n",
    "from models.transformer_utils import Transformer"
   ]
  },
  {
   "cell_type": "code",
   "execution_count": 16,
   "id": "9aabadcc-6cfa-45d6-98a5-e8f95a87acd5",
   "metadata": {},
   "outputs": [
    {
     "data": {
      "text/plain": [
       "tensor([[[ 1.1121,  0.8055,  0.5262,  ...,  1.2332, -1.4972,  0.4320],\n",
       "         [ 1.8725,  0.2912,  1.1283,  ...,  0.1330, -0.8512, -1.6398],\n",
       "         [ 0.0586,  0.4806,  0.0308,  ..., -1.3632,  0.5167, -0.4511],\n",
       "         ...,\n",
       "         [-0.1214, -0.3452,  0.5496,  ..., -0.2248, -1.2256,  1.2711],\n",
       "         [ 0.3644,  1.1173,  1.9463,  ...,  1.0722,  0.2955, -0.6599],\n",
       "         [ 0.4382,  1.1305, -0.2090,  ...,  0.5223, -0.6597, -1.6678]]],\n",
       "       grad_fn=<NativeLayerNormBackward0>)"
      ]
     },
     "execution_count": 16,
     "metadata": {},
     "output_type": "execute_result"
    }
   ],
   "source": [
    "# # Transformer from torch.nn\n",
    "# encoder_layer = nn.TransformerEncoderLayer(d_model=512, nhead=8)\n",
    "# transformer = nn.TransformerEncoder(encoder_layer, num_layers=6,)\n",
    "\n",
    "# Our transformer from models/transformer_utiles.py\n",
    "transformer = Transformer(emb=128, heads=2, depth=2, ff_hidden_mult=4)  # Instantiate\n",
    "\n",
    "# Dummy inputs\n",
    "mask_test = torch.ones((1, 100), dtype=torch.bool)\n",
    "x = torch.randn((1, 100, 128))\n",
    "\n",
    "# Forward pass\n",
    "transformer(x, mask_test)"
   ]
  },
  {
   "cell_type": "code",
   "execution_count": 17,
   "id": "487a5364-8f45-4c33-9bec-c9b7c3ef493c",
   "metadata": {},
   "outputs": [],
   "source": [
    "class TimePositionalEncoding(nn.Module):\n",
    "    \"\"\" Time encodings for Transformer. \n",
    "    \"\"\"\n",
    "\n",
    "    def __init__(self, d_emb):\n",
    "        \"\"\"\n",
    "        Inputs\n",
    "            d_emb - Dimensionality when projecting to the fourier feature basis.\n",
    "        \"\"\"\n",
    "        super().__init__()\n",
    "        self.d_emb = d_emb\n",
    "\n",
    "    def forward(self, t):\n",
    "        pe = torch.zeros(t.shape[0], t.shape[1], self.d_emb).to(t.device)  # (B, T, D)\n",
    "        div_term = torch.exp(torch.arange(0, self.d_emb, 2).float() * (-math.log(10000.0) / self.d_emb))[None, None, :].to(t.device)  # (1, 1, D / 2)\n",
    "        t = t.unsqueeze(2)  # (B, 1, T)\n",
    "        pe[:, :, 0::2] = torch.sin(t * div_term)  # (B, T, D / 2)\n",
    "        pe[:, :, 1::2] = torch.cos(t * div_term)  # (B, T, D / 2)\n",
    "        return pe  # (B, T, D)\n",
    "\n",
    "class TransformerWithTimeEmbeddings(nn.Module):\n",
    "    \"\"\" Transformer encoer.\n",
    "    \"\"\"\n",
    "\n",
    "    def __init__(self, n_out=1, **kwargs):\n",
    "        \"\"\"\n",
    "        :param n_out: Number of outputs per sequence element (e.g., number of bands).\n",
    "        :param kwargs: Transformer arguments.\n",
    "        \"\"\"\n",
    "        super().__init__()\n",
    "        \n",
    "        self.embedding_mag = nn.Linear(in_features=1, out_features=kwargs['emb'])\n",
    "        self.embedding_t = TimePositionalEncoding(kwargs['emb'])\n",
    "        self.transformer = Transformer(**kwargs)\n",
    "        self.projection = nn.Linear(in_features=kwargs['emb'], out_features=n_out)\n",
    "\n",
    "    def forward(self, x, t, mask=None):\n",
    "        \"\"\"\n",
    "        :param x: Input sequence (B, T, 1).\n",
    "        :param t: Time sequence (B, T).\n",
    "        :param mask: Padding mask (B, T).\n",
    "        :return: Output sequence (B, T, n_out).\n",
    "        \"\"\"\n",
    "        t = t - t[:, 0].unsqueeze(1)  # (B, T)  # Relative time\n",
    "        t_emb = self.embedding_t(t)  # (B, T, D)  # Project to embedding dimension of transformer\n",
    "        x = self.embedding_mag(x) + t_emb  # (B, T, D)  # Add time embeddings to magnitude embeddings\n",
    "        x = self.transformer(x, mask)  # (B, T, D)  # Transformer\n",
    "        x = self.projection(x)  # (B, T, n_out)  # Project each sequence element (independently) to output dim\n",
    "\n",
    "        return x\n",
    "\n",
    "transformer = TransformerWithTimeEmbeddings(n_out=1, emb=128, heads=2, depth=2)"
   ]
  },
  {
   "cell_type": "code",
   "execution_count": 18,
   "id": "abbf213c-af20-43a9-9358-321ba4a4e7ba",
   "metadata": {},
   "outputs": [],
   "source": [
    "# Convert to torch tensors\n",
    "mag = torch.Tensor(mag)\n",
    "time = torch.Tensor(time)\n",
    "mask = torch.Tensor(mask).to(torch.bool)\n",
    "\n",
    "# Standardize mag\n",
    "mag_mean = mag.mean()\n",
    "mag_std = mag.std()\n",
    "mag = (mag - mag_mean) / mag_std\n",
    "\n",
    "# # Standardize time # Don't standardize time, since we'll zero-subtract for simplicity\n",
    "# time_mean = time.mean()\n",
    "# time_std = time.std()\n",
    "# time = (time - time_mean) / time_std"
   ]
  },
  {
   "cell_type": "code",
   "execution_count": 19,
   "id": "bf0b1ba2-278c-4bb5-a3c4-26cefe84b5b3",
   "metadata": {},
   "outputs": [],
   "source": [
    "# Convenience function to get random masks\n",
    "\n",
    "def get_random_mask(padding_mask, f_mask=0.15):\n",
    "    \"\"\" Get a random contiguous masks for the input sequence.\n",
    "    :param padding_mask: Padding mask (B, T).\n",
    "    :param f_mask: Fraction of mask to keep.\n",
    "    :return: Mask (B, T).\n",
    "    \"\"\"\n",
    "    mask = torch.ones_like(padding_mask)\n",
    "    mask_pred = torch.ones_like(padding_mask)\n",
    "    for i in range(padding_mask.shape[0]):\n",
    "        n_obs = padding_mask[i].sum().item()\n",
    "        n_obs_to_keep = int(n_obs * f_mask)\n",
    "        start = torch.randint(0, n_obs - n_obs_to_keep + 1, (1,)).item()\n",
    "        end = start + n_obs_to_keep\n",
    "\n",
    "        # Mask containing observations to be kept\n",
    "        mask[i, start:end] = False  # Mask out observations from start to end\n",
    "        mask[i, n_obs:] = False\n",
    "\n",
    "        # Mask only containing observations to be predicted\n",
    "        mask_pred[i, end:n_obs] = False\n",
    "        mask_pred[i, :start] = False\n",
    "        mask_pred[i, start:end] = True\n",
    "        mask_pred[i, n_obs:] = False\n",
    "        \n",
    "    return mask, mask_pred\n",
    "\n",
    "# Test the mask function\n",
    "\n",
    "f_mask = 0.15\n",
    "mask_test = mask[144:]\n",
    "mask_in, mask_pred = get_random_mask(mask_test, f_mask=f_mask)  # Mask out 15% of observations"
   ]
  },
  {
   "cell_type": "code",
   "execution_count": 20,
   "id": "3421c3e6-183c-4dc1-a2e7-d14ae3dce8a9",
   "metadata": {},
   "outputs": [
    {
     "name": "stdout",
     "output_type": "stream",
     "text": [
      "Mask\n"
     ]
    },
    {
     "data": {
      "image/png": "[encoded data removed]",
      "text/plain": [
       "<Figure size 2000x100 with 1 Axes>"
      ]
     },
     "metadata": {},
     "output_type": "display_data"
    },
    {
     "name": "stdout",
     "output_type": "stream",
     "text": [
      "Mask in: original mask with 0.15 of observations masked out\n"
     ]
    },
    {
     "data": {
      "image/png": "[encoded data removed]",
      "text/plain": [
       "<Figure size 2000x100 with 1 Axes>"
      ]
     },
     "metadata": {},
     "output_type": "display_data"
    },
    {
     "name": "stdout",
     "output_type": "stream",
     "text": [
      "Mask pred: observations to be predicted\n"
     ]
    },
    {
     "data": {
      "image/png": "[encoded data removed]",
      "text/plain": [
       "<Figure size 2000x100 with 1 Axes>"
      ]
     },
     "metadata": {},
     "output_type": "display_data"
    }
   ],
   "source": [
    "# Function to plot a mask\n",
    "def plot_mask(mask):\n",
    "    \"\"\" `mask` is a 1D boolean array.\n",
    "    \"\"\"\n",
    "    plt.figure(figsize=(20, 1))\n",
    "    plt.imshow(mask[None, :], aspect='auto', cmap='binary', vmin=0, vmax=1)\n",
    "    plt.yticks([])\n",
    "    plt.show()\n",
    "\n",
    "print(\"Mask\")\n",
    "plot_mask(mask_test[0].detach().numpy())\n",
    "\n",
    "print(f\"Mask in: original mask with {f_mask} of observations masked out\")\n",
    "plot_mask(mask_in[0].detach().numpy())\n",
    "\n",
    "print(\"Mask pred: observations to be predicted\")\n",
    "plot_mask(mask_pred[0].detach().numpy())"
   ]
  },
  {
   "cell_type": "code",
   "execution_count": 21,
   "id": "d5fb5b7b-ce80-4ffa-82b7-02c327815a51",
   "metadata": {},
   "outputs": [
    {
     "data": {
      "text/plain": [
       "torch.Size([4, 1000, 1])"
      ]
     },
     "execution_count": 21,
     "metadata": {},
     "output_type": "execute_result"
    }
   ],
   "source": [
    "n_small_batch = 4\n",
    "\n",
    "out = transformer(mag[:n_small_batch].unsqueeze(-1), time[:n_small_batch], mask[:n_small_batch])  # Unsqueeze just adds a channel dimension (B, T, 1)\n",
    "out.shape"
   ]
  },
  {
   "cell_type": "code",
   "execution_count": 22,
   "id": "260a256c-cfbb-4222-a548-3c2b52703a75",
   "metadata": {},
   "outputs": [],
   "source": [
    "class MaskedLightCurveEncoder(pl.LightningModule):\n",
    "    def __init__(self, f_mask=0.2, transformer_kwargs={\"n_out\":1, \"emb\":128, \"heads\":2, \"depth\":4}, optimizer_kwargs={}, lr=1e-3):\n",
    "        super().__init__()\n",
    "\n",
    "        self.optimizer_kwargs = optimizer_kwargs\n",
    "        self.lr = lr\n",
    "        self.f_mask = f_mask\n",
    "\n",
    "        self.net = TransformerWithTimeEmbeddings(**transformer_kwargs)\n",
    "\n",
    "    def forward(self, x, t, mask=None):\n",
    "        x = x[..., None]\n",
    "        x = self.net(x, t, mask)\n",
    "        return x\n",
    "\n",
    "    def configure_optimizers(self):\n",
    "        optimizer = torch.optim.RAdam(self.parameters(), lr=self.lr, **self.optimizer_kwargs)\n",
    "        return {\"optimizer\": optimizer}\n",
    "\n",
    "    def masked_pred(self, x, t, padding_mask, f_mask=0.15):\n",
    "        # Get random mask and predict with masked inputs; then, return only the unmasked outputs\n",
    "        mask_in, mask_pred = get_random_mask(padding_mask, f_mask=f_mask)\n",
    "        x_masked = x.clone()\n",
    "        x_masked[~mask_in] = 0\n",
    "        x_pred = self(x_masked, t, mask=padding_mask)[..., 0]  \n",
    "        return x[mask_pred], x_pred[mask_pred]\n",
    "    \n",
    "    def training_step(self, batch, batch_idx):\n",
    "        x, t, padding_mask = batch\n",
    "        x, x_pred = self.masked_pred(x, t, padding_mask, f_mask=self.f_mask)\n",
    "        loss = nn.MSELoss()(x, x_pred)\n",
    "        self.log(\"train_loss\", loss, on_epoch=True, on_step=False, prog_bar=True,)\n",
    "        return loss\n",
    "\n",
    "    def validation_step(self, batch, batch_idx):\n",
    "        x, t, padding_mask = batch\n",
    "        x, x_pred = self.masked_pred(x, t, padding_mask, f_mask=self.f_mask)\n",
    "        loss = nn.MSELoss()(x, x_pred)\n",
    "        self.log(\"val_loss\", loss, on_epoch=True, on_step=False, prog_bar=True,)\n",
    "        return loss"
   ]
  },
  {
   "cell_type": "code",
   "execution_count": 23,
   "id": "61cf9172-5e8e-47c7-adbd-045f475a3b5e",
   "metadata": {},
   "outputs": [],
   "source": [
    "mlce = MaskedLightCurveEncoder(f_mask=0.15, lr=6e-4, transformer_kwargs={\"n_out\":1, \"emb\":256, \"heads\":4, \"depth\":12, \"dropout\":0.02})"
   ]
  },
  {
   "cell_type": "code",
   "execution_count": 24,
   "id": "d3019226-3c2d-428a-a9e8-931342ad7df7",
   "metadata": {},
   "outputs": [
    {
     "name": "stderr",
     "output_type": "stream",
     "text": [
      "/usr/local/lib/python3.10/dist-packages/torch/utils/data/dataloader.py:557: UserWarning: This DataLoader will create 8 worker processes in total. Our suggested max number of worker in current system is 1, which is smaller than what this DataLoader is going to create. Please be aware that excessive worker creation might get DataLoader running slow or even freeze, lower the worker number to avoid potential slowness/freeze if necessary.\n",
      "  warnings.warn(_create_warning_msg(\n"
     ]
    }
   ],
   "source": [
    "from torch.utils.data import TensorDataset, DataLoader, random_split\n",
    "\n",
    "val_fraction = 0.05\n",
    "batch_size = 64\n",
    "n_samples_val = int(val_fraction * mag.shape[0])\n",
    "\n",
    "dataset = TensorDataset(mag, time, mask)\n",
    "\n",
    "dataset_train, dataset_val = random_split(dataset, [mag.shape[0] - n_samples_val, n_samples_val])\n",
    "train_loader = DataLoader(dataset_train, batch_size=batch_size, num_workers=8, pin_memory=True, shuffle=True)\n",
    "val_loader = DataLoader(dataset_val, batch_size=batch_size, num_workers=8, pin_memory=True, shuffle=False)"
   ]
  },
  {
   "cell_type": "code",
   "execution_count": null,
   "id": "5dbc6c8c-86a1-4456-90a4-c70fb7903c56",
   "metadata": {},
   "outputs": [
    {
     "name": "stderr",
     "output_type": "stream",
     "text": [
      "GPU available: True (cuda), used: True\n",
      "TPU available: False, using: 0 TPU cores\n",
      "IPU available: False, using: 0 IPUs\n",
      "HPU available: False, using: 0 HPUs\n",
      "/jet/home/schen15/.local/lib/python3.10/site-packages/pytorch_lightning/callbacks/model_checkpoint.py:639: Checkpoint directory /jet/home/schen15/lightning_logs/version_21769829/checkpoints exists and is not empty.\n",
      "LOCAL_RANK: 0 - CUDA_VISIBLE_DEVICES: [0]\n",
      "\n",
      "  | Name | Type                          | Params\n",
      "-------------------------------------------------------\n",
      "0 | net  | TransformerWithTimeEmbeddings | 9.5 M \n",
      "-------------------------------------------------------\n",
      "9.5 M     Trainable params\n",
      "0         Non-trainable params\n",
      "9.5 M     Total params\n",
      "37.875    Total estimated model params size (MB)\n"
     ]
    },
    {
     "name": "stdout",
     "output_type": "stream",
     "text": [
      "                                                                           \r"
     ]
    },
    {
     "name": "stderr",
     "output_type": "stream",
     "text": [
      "/jet/home/schen15/.local/lib/python3.10/site-packages/pytorch_lightning/loops/fit_loop.py:293: The number of training batches (15) is smaller than the logging interval Trainer(log_every_n_steps=50). Set a lower value for log_every_n_steps if you want to see logs for the training epoch.\n"
     ]
    },
    {
     "name": "stdout",
     "output_type": "stream",
     "text": [
      "Epoch 0: 100%|██████████| 15/15 [00:12<00:00,  1.18it/s, v_num=2.18e+7]\n",
      "Validation: |          | 0/? [00:00<?, ?it/s]\u001b[A\n",
      "Validation:   0%|          | 0/1 [00:00<?, ?it/s]\u001b[A\n",
      "Validation DataLoader 0:   0%|          | 0/1 [00:00<?, ?it/s]\u001b[A\n",
      "Validation DataLoader 0: 100%|██████████| 1/1 [00:00<00:00,  2.57it/s]\u001b[A\n",
      "Epoch 1: 100%|██████████| 15/15 [00:12<00:00,  1.19it/s, v_num=2.18e+7, val_loss=0.759, train_loss=1.120]\n",
      "Validation: |          | 0/? [00:00<?, ?it/s]\u001b[A\n",
      "Validation:   0%|          | 0/1 [00:00<?, ?it/s]\u001b[A\n",
      "Validation DataLoader 0:   0%|          | 0/1 [00:00<?, ?it/s]\u001b[A\n",
      "Validation DataLoader 0: 100%|██████████| 1/1 [00:00<00:00,  2.67it/s]\u001b[A\n",
      "Epoch 2: 100%|██████████| 15/15 [00:12<00:00,  1.18it/s, v_num=2.18e+7, val_loss=0.748, train_loss=1.040]\n",
      "Validation: |          | 0/? [00:00<?, ?it/s]\u001b[A\n",
      "Validation:   0%|          | 0/1 [00:00<?, ?it/s]\u001b[A\n",
      "Validation DataLoader 0:   0%|          | 0/1 [00:00<?, ?it/s]\u001b[A\n",
      "Validation DataLoader 0: 100%|██████████| 1/1 [00:00<00:00,  2.78it/s]\u001b[A\n",
      "Epoch 3: 100%|██████████| 15/15 [00:12<00:00,  1.18it/s, v_num=2.18e+7, val_loss=0.771, train_loss=1.030]\n",
      "Validation: |          | 0/? [00:00<?, ?it/s]\u001b[A\n",
      "Validation:   0%|          | 0/1 [00:00<?, ?it/s]\u001b[A\n",
      "Validation DataLoader 0:   0%|          | 0/1 [00:00<?, ?it/s]\u001b[A\n",
      "Validation DataLoader 0: 100%|██████████| 1/1 [00:00<00:00,  2.93it/s]\u001b[A\n",
      "Epoch 4: 100%|██████████| 15/15 [00:12<00:00,  1.18it/s, v_num=2.18e+7, val_loss=0.771, train_loss=1.030]\n",
      "Validation: |          | 0/? [00:00<?, ?it/s]\u001b[A\n",
      "Validation:   0%|          | 0/1 [00:00<?, ?it/s]\u001b[A\n",
      "Validation DataLoader 0:   0%|          | 0/1 [00:00<?, ?it/s]\u001b[A\n",
      "Validation DataLoader 0: 100%|██████████| 1/1 [00:00<00:00,  2.67it/s]\u001b[A\n",
      "Epoch 5:  47%|████▋     | 7/15 [00:05<00:06,  1.19it/s, v_num=2.18e+7, val_loss=0.764, train_loss=1.030] "
     ]
    }
   ],
   "source": [
    "trainer = pl.Trainer(max_epochs=100, accelerator='gpu',)\n",
    "trainer.fit(model=mlce, train_dataloaders=train_loader, val_dataloaders=val_loader)"
   ]
  },
  {
   "cell_type": "code",
   "execution_count": null,
   "id": "81438769-7eb9-4c06-b87f-69c55031b224",
   "metadata": {},
   "outputs": [],
   "source": [
    "mlce = mlce.eval()"
   ]
  },
  {
   "cell_type": "code",
   "execution_count": null,
   "id": "1a53f364-b930-45d7-9d0c-78ada2fe3f30",
   "metadata": {},
   "outputs": [],
   "source": [
    "mag_test, time_test, mask_test = next(iter(val_loader))"
   ]
  },
  {
   "cell_type": "code",
   "execution_count": null,
   "id": "25651879-2003-4104-b641-f2c33325173b",
   "metadata": {},
   "outputs": [],
   "source": [
    "fig, ax = plt.subplots(4, 2, figsize=(12, 12))\n",
    "\n",
    "for i in range(4):\n",
    "    for j in range(2):\n",
    "        ii = i * 2 + j\n",
    "\n",
    "        fill_min, fill_max = 2, 7  # Mask out observations from fill_min to fill_max\n",
    "        mask_tofill = mask_test[ii:ii + 1].clone()\n",
    "        mask_tofill[:, fill_min:fill_max + 1] = False\n",
    "\n",
    "        # Remove zero-padded, masked out elements\n",
    "        mag_truth = mag_test[ii:ii + 1].clone()[mask_test[ii:ii + 1]]\n",
    "        mag_test_in = mag_test[ii:ii + 1].clone()[mask_test[ii:ii + 1]]\n",
    "        time_test_in = time_test[ii:ii + 1].clone()[mask_test[ii:ii + 1]]\n",
    "\n",
    "        mag_test_in[fill_min:fill_max + 1] = 0\n",
    "\n",
    "        mag_pred = mlce(mag_test_in[None, ...], time_test_in[None, ...],)[0, :, 0].detach().numpy()[fill_min:fill_max + 1]\n",
    "\n",
    "        ax[i, j].scatter(time_test_in[fill_min:fill_max + 1], mag_pred, label='pred')\n",
    "        ax[i, j].scatter(time_test_in, mag_truth, label='truth')\n",
    "\n",
    "        # Mark the masked observations; if fill_[min/max] is bigger than the number of observations, make it the length of the observations\n",
    "        fill_min = min(fill_min, len(time_test_in) - 1)\n",
    "        fill_max = min(fill_max, len(time_test_in) - 1)\n",
    "        \n",
    "        ax[i, j].axvspan(time_test_in[fill_min], time_test_in[fill_max], alpha=0.1, color='red', label='masked')\n",
    "        ax[i, j].legend()\n",
    "\n",
    "        ax[i, j].set_xlabel('time')\n",
    "        ax[i, j].set_ylabel('mag')"
   ]
  },
  {
   "cell_type": "code",
   "execution_count": null,
   "id": "40c1165e-f1ef-48db-ac76-ad55098ede4d",
   "metadata": {},
   "outputs": [],
   "source": []
  }
 ],
 "metadata": {
  "kernelspec": {
   "display_name": "NGC PyTorch",
   "language": "python",
   "name": "pytorch"
  },
  "language_info": {
   "codemirror_mode": {
    "name": "ipython",
    "version": 3
   },
   "file_extension": ".py",
   "mimetype": "text/x-python",
   "name": "python",
   "nbconvert_exporter": "python",
   "pygments_lexer": "ipython3",
   "version": "3.10.12"
  }
 },
 "nbformat": 4,
 "nbformat_minor": 5
}
